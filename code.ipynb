{
 "cells": [
  {
   "cell_type": "code",
   "execution_count": 1,
   "id": "initial_id",
   "metadata": {
    "collapsed": true,
    "ExecuteTime": {
     "end_time": "2023-12-17T16:59:38.633965100Z",
     "start_time": "2023-12-17T16:59:38.495217Z"
    }
   },
   "outputs": [],
   "source": [
    "from pyspark.sql import SparkSession\n",
    "from pyspark import SparkConf\n",
    "from pyspark.sql import DataFrame\n",
    "import pyspark.sql.types as t\n",
    "from workers import FareWorker, TripWorker"
   ]
  },
  {
   "cell_type": "code",
   "execution_count": 2,
   "outputs": [],
   "source": [
    "def init_spark() -> SparkSession:\n",
    "    return (SparkSession.builder\n",
    "            .master(\"local\")\n",
    "            .appName(\"Python\")\n",
    "            .config(conf=SparkConf())\n",
    "            .getOrCreate())"
   ],
   "metadata": {
    "collapsed": false,
    "ExecuteTime": {
     "end_time": "2023-12-17T16:59:57.072020200Z",
     "start_time": "2023-12-17T16:59:57.061503800Z"
    }
   },
   "id": "66e661c4ca51d954"
  },
  {
   "cell_type": "code",
   "execution_count": null,
   "outputs": [],
   "source": [
    "def create_df_example(spark: SparkSession) -> DataFrame:\n",
    "    data = [(\"Alice\", 20), (\"Bob\", 30), (\"Charlie\", 50)]\n",
    "    schema = t.StructType([t.StructField(\"Name\", t.StringType(), True),\n",
    "                           t.StructField(\"Age\", t.IntegerType(), True)])\n",
    "    return spark.createDataFrame(data, schema)"
   ],
   "metadata": {
    "collapsed": false
   },
   "id": "fc6fcc14395d0a8e"
  },
  {
   "cell_type": "code",
   "execution_count": 3,
   "outputs": [
    {
     "data": {
      "text/plain": "<pyspark.sql.session.SparkSession at 0x15fd9e55700>",
      "text/html": "\n            <div>\n                <p><b>SparkSession - in-memory</b></p>\n                \n        <div>\n            <p><b>SparkContext</b></p>\n\n            <p><a href=\"http://minint-vvfhepv.lvairo.com.beta.tailscale.net.:4042\">Spark UI</a></p>\n\n            <dl>\n              <dt>Version</dt>\n                <dd><code>v3.3.4</code></dd>\n              <dt>Master</dt>\n                <dd><code>local</code></dd>\n              <dt>AppName</dt>\n                <dd><code>Python</code></dd>\n            </dl>\n        </div>\n        \n            </div>\n        "
     },
     "execution_count": 3,
     "metadata": {},
     "output_type": "execute_result"
    }
   ],
   "source": [
    "spark = init_spark()\n",
    "spark"
   ],
   "metadata": {
    "collapsed": false,
    "ExecuteTime": {
     "end_time": "2023-12-17T17:00:03.546088200Z",
     "start_time": "2023-12-17T17:00:00.162860100Z"
    }
   },
   "id": "9e81ad862b157e2"
  },
  {
   "cell_type": "code",
   "execution_count": 4,
   "outputs": [],
   "source": [
    "tripWorker = TripWorker.TripWorker(spark)"
   ],
   "metadata": {
    "collapsed": false,
    "ExecuteTime": {
     "end_time": "2023-12-17T17:00:13.196265Z",
     "start_time": "2023-12-17T17:00:12.011953300Z"
    }
   },
   "id": "23d87a00126acc52"
  },
  {
   "cell_type": "code",
   "execution_count": 9,
   "outputs": [
    {
     "name": "stdout",
     "output_type": "stream",
     "text": [
      "+--------------------+--------------------+---------+---------+------------------+-------------------+-------------------+---------------+-----------------+-------------+----------------+---------------+-----------------+----------------+\n",
      "|           medallion|        hack_license|vendor_id|rate_code|store_and_fwd_flag|    pickup_datetime|   dropoff_datetime|passenger_count|trip_time_in_secs|trip_distance|pickup_longitude|pickup_latitude|dropoff_longitude|dropoff_latitude|\n",
      "+--------------------+--------------------+---------+---------+------------------+-------------------+-------------------+---------------+-----------------+-------------+----------------+---------------+-----------------+----------------+\n",
      "|89D227B655E5C82AE...|BA96DE419E711691B...|      CMT|        1|              null|2013-01-01 15:11:48|2013-01-01 15:18:10|              4|              382|          1.0|      -73.978165|      40.757977|        -73.98984|        40.75117|\n",
      "|0BD7C8F5BA12B88E0...|9FD8F69F0804BDB55...|      CMT|        1|              null|2013-01-06 00:18:35|2013-01-06 00:22:54|              1|              259|          1.5|       -74.00668|       40.73178|         -73.9945|        40.75066|\n",
      "|0BD7C8F5BA12B88E0...|9FD8F69F0804BDB55...|      CMT|        1|              null|2013-01-05 18:49:41|2013-01-05 18:54:23|              1|              282|          1.1|       -74.00471|       40.73777|       -74.009834|          40.726|\n",
      "|DFD2202EE08F7A8DC...|51EE87E3205C985EF...|      CMT|        1|              null|2013-01-07 23:54:15|2013-01-07 23:58:20|              2|              244|          0.7|        -73.9746|      40.759945|        -73.98473|       40.759388|\n",
      "|DFD2202EE08F7A8DC...|51EE87E3205C985EF...|      CMT|        1|              null|2013-01-07 23:25:03|2013-01-07 23:34:24|              1|              560|          2.1|       -73.97625|      40.748528|        -74.00259|       40.747868|\n",
      "|20D9ECB2CA0767CF7...|598CCE5B9C1918568...|      CMT|        1|              null|2013-01-07 15:27:48|2013-01-07 15:38:37|              1|              648|          1.7|       -73.96674|       40.76425|        -73.98332|       40.743763|\n",
      "|496644932DF393260...|513189AD756FF14FE...|      CMT|        1|              null|2013-01-08 11:01:15|2013-01-08 11:08:14|              1|              418|          0.8|      -73.995804|      40.743977|       -74.007416|       40.744343|\n",
      "|0B57B9633A2FECD3D...|CCD4367B417ED6634...|      CMT|        1|              null|2013-01-07 12:39:18|2013-01-07 13:10:56|              3|             1898|         10.7|       -73.98994|      40.756775|        -73.86525|        40.77063|\n",
      "|2C0E91FF20A856C89...|1DA2F6543A62B8ED9...|      CMT|        1|              null|2013-01-07 18:15:47|2013-01-07 18:20:47|              1|              299|          0.8|       -73.98007|      40.743137|        -73.98271|       40.735336|\n",
      "|2D4B95E2FA7B2E851...|CD2F522EEE1FF5F5A...|      CMT|        1|              null|2013-01-07 15:33:28|2013-01-07 15:49:26|              2|              957|          2.5|      -73.977936|      40.786983|        -73.95292|        40.80637|\n",
      "|E12F6AF991172EAC3...|06918214E951FA000...|      CMT|        1|              null|2013-01-08 13:11:52|2013-01-08 13:19:50|              1|              477|          1.3|       -73.98245|      40.773167|       -73.964134|       40.773815|\n",
      "|E12F6AF991172EAC3...|06918214E951FA000...|      CMT|        1|              null|2013-01-08 09:50:05|2013-01-08 10:02:54|              1|              768|          0.7|       -73.99556|      40.749294|       -73.988686|       40.759052|\n",
      "|78FFD9CD0CDA541F3...|E949C583ECF62C8F0...|      CMT|        1|              null|2013-01-10 12:07:08|2013-01-10 12:17:29|              1|              620|          2.3|        -73.9715|       40.79132|        -73.96448|        40.77592|\n",
      "|237F49C3ECC11F502...|93C363DDF8ED9385D...|      CMT|        1|              null|2013-01-07 07:35:47|2013-01-07 07:46:00|              1|              612|          2.3|       -73.98851|      40.774307|       -73.981094|       40.755325|\n",
      "|3349F919AA8AE5DC9...|7CE849FEF67514F08...|      CMT|        1|              null|2013-01-10 15:42:29|2013-01-10 16:04:02|              1|             1293|          3.2|       -73.99491|       40.72322|        -73.97156|       40.761612|\n",
      "|3349F919AA8AE5DC9...|7CE849FEF67514F08...|      CMT|        1|              null|2013-01-10 14:27:28|2013-01-10 14:45:21|              1|             1073|          4.4|       -74.01039|      40.708702|        -73.98785|       40.756104|\n",
      "|4C005EEBAA7BF26B8...|351BE7D984BE17DB2...|      CMT|        1|              null|2013-01-07 22:09:59|2013-01-07 22:19:50|              1|              591|          1.7|       -73.97373|      40.756287|        -73.99841|       40.756832|\n",
      "|7D99C30FCE69B1A9D...|460C3F57DD9CB2265...|      CMT|        1|              null|2013-01-07 17:18:16|2013-01-07 17:20:55|              1|              158|          0.7|      -73.968925|      40.767704|        -73.96199|       40.776566|\n",
      "|E6FBF80668FE0611A...|36773E80775F26CD1...|      CMT|        1|              null|2013-01-07 06:08:51|2013-01-07 06:13:14|              1|              262|          1.7|       -73.96212|      40.769737|        -73.97956|        40.75539|\n",
      "|0C5296F3C8B16E702...|D2363240A9295EF57...|      CMT|        1|              null|2013-01-07 22:25:46|2013-01-07 22:36:56|              1|              669|          2.3|       -73.98971|      40.756714|       -73.977615|       40.787575|\n",
      "+--------------------+--------------------+---------+---------+------------------+-------------------+-------------------+---------------+-----------------+-------------+----------------+---------------+-----------------+----------------+\n"
     ]
    }
   ],
   "source": [
    "tripWorker.show()"
   ],
   "metadata": {
    "collapsed": false,
    "ExecuteTime": {
     "end_time": "2023-12-17T17:05:57.431060700Z",
     "start_time": "2023-12-17T17:05:57.350437700Z"
    }
   },
   "id": "b848153e54acfc6b"
  },
  {
   "cell_type": "code",
   "execution_count": null,
   "outputs": [],
   "source": [],
   "metadata": {
    "collapsed": false
   },
   "id": "158d86e143e72b2"
  }
 ],
 "metadata": {
  "kernelspec": {
   "display_name": "Python 3",
   "language": "python",
   "name": "python3"
  },
  "language_info": {
   "codemirror_mode": {
    "name": "ipython",
    "version": 2
   },
   "file_extension": ".py",
   "mimetype": "text/x-python",
   "name": "python",
   "nbconvert_exporter": "python",
   "pygments_lexer": "ipython2",
   "version": "2.7.6"
  }
 },
 "nbformat": 4,
 "nbformat_minor": 5
}
